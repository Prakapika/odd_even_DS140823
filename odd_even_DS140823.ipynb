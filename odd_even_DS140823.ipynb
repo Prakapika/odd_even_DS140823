{
 "cells": [
  {
   "cell_type": "code",
   "execution_count": 5,
   "id": "0b9a812b",
   "metadata": {},
   "outputs": [
    {
     "name": "stdout",
     "output_type": "stream",
     "text": [
      "Number of odd number is: 6\n",
      "Number of even number is:  5\n"
     ]
    }
   ],
   "source": [
    "#odd_even\n",
    "num = (1,2,3,4,5,6,7,8,9,10,11)\n",
    "odd = 0\n",
    "even = 0\n",
    "for i in num:\n",
    "    if not i%2 == 0:\n",
    "        odd+=1\n",
    "    else:\n",
    "        even+=1\n",
    "print(\"Number of odd number is:\", odd)\n",
    "print(\"Number of even number is: \", even)"
   ]
  },
  {
   "cell_type": "code",
   "execution_count": null,
   "id": "43eeeb36",
   "metadata": {},
   "outputs": [],
   "source": []
  }
 ],
 "metadata": {
  "kernelspec": {
   "display_name": "Python 3 (ipykernel)",
   "language": "python",
   "name": "python3"
  },
  "language_info": {
   "codemirror_mode": {
    "name": "ipython",
    "version": 3
   },
   "file_extension": ".py",
   "mimetype": "text/x-python",
   "name": "python",
   "nbconvert_exporter": "python",
   "pygments_lexer": "ipython3",
   "version": "3.10.6"
  }
 },
 "nbformat": 4,
 "nbformat_minor": 5
}
